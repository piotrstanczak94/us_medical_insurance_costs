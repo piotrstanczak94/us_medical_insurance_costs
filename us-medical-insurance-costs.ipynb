{
 "cells": [
  {
   "cell_type": "markdown",
   "metadata": {},
   "source": [
    "# U.S. Medical Insurance Costs"
   ]
  },
  {
   "cell_type": "markdown",
   "metadata": {},
   "source": [
    "#Our Scopes:\n",
    "- Find out the average age of the patients in the dataset.\n",
    "- Analyze where a majority of the individuals are from.\n",
    "- Look at the different costs between smokers vs. non-smokers.\n",
    "- Figure out what the average age is for someone who has at least one child in this dataset.\n",
    "- and more ;)"
   ]
  },
  {
   "cell_type": "code",
   "execution_count": 48,
   "metadata": {},
   "outputs": [],
   "source": [
    "# Open CSV file and save data to lists\n",
    "\n",
    "import csv\n",
    "\n",
    "age = []\n",
    "sex = []\n",
    "bmi = []\n",
    "children = []\n",
    "smoker = []\n",
    "regions = []\n",
    "charges = []\n",
    "\n",
    "with open('insurance.csv', newline='') as insurance_file:\n",
    "    insurance_data = csv.DictReader(insurance_file)\n",
    "    for row in insurance_data:\n",
    "        age.append(int(row['age']))\n",
    "        sex.append(row['sex'])\n",
    "        bmi.append(float(row['bmi']))\n",
    "        children.append(int(row['children']))\n",
    "        smoker.append(row['smoker'])\n",
    "        regions.append(row['region'])\n",
    "        charges.append(float(row['charges']))"
   ]
  },
  {
   "cell_type": "code",
   "execution_count": 49,
   "metadata": {},
   "outputs": [],
   "source": [
    "# Make dictionary from lists\n",
    "\n",
    "column_names = ['age', 'sex', 'bmi', 'children', 'smoker', 'region', 'charges']\n",
    "data_zipped = zip(column_names, [age, sex, bmi, children, smoker, regions, charges])\n",
    "insurance_dict = {key: list(value) for key, value in data_zipped}"
   ]
  },
  {
   "cell_type": "code",
   "execution_count": 50,
   "metadata": {},
   "outputs": [
    {
     "name": "stdout",
     "output_type": "stream",
     "text": [
      "Average age in our database is 39\n"
     ]
    }
   ],
   "source": [
    "# Counting average age\n",
    "\n",
    "def average_age(age):\n",
    "    avg_age = sum(age)/len(age)\n",
    "    print(f'Average age in our database is {int(avg_age)}')\n",
    "\n",
    "average_age(age)"
   ]
  },
  {
   "cell_type": "code",
   "execution_count": 65,
   "metadata": {},
   "outputs": [
    {
     "name": "stdout",
     "output_type": "stream",
     "text": [
      "Majority region is: southeast (364 times)\n"
     ]
    }
   ],
   "source": [
    "#  Where majority individuals are from?\n",
    "\n",
    "def count_regions_in_list(regions):\n",
    "    region_counts = {}\n",
    "    for region in regions:\n",
    "        if region in region_counts:\n",
    "            region_counts[region] += 1\n",
    "        else:\n",
    "            region_counts[region] = 1\n",
    "    return region_counts\n",
    "    # For the dictionaries:\n",
    "    # region_counts = {}\n",
    "    # for region in insurance_dict['region']:\n",
    "    #     if region in region_counts:\n",
    "    #         region_counts[region] += 1\n",
    "    #     else:\n",
    "    #         region_counts[region] = 1\n",
    "    # return region_counts\n",
    "\n",
    "region_counts = count_regions_in_list(regions)\n",
    "\n",
    "most_frequent_region = max(region_counts, key=region_counts.get)\n",
    "\n",
    "print(f\"Majority region is: {most_frequent_region} ({region_counts[most_frequent_region]} times)\")"
   ]
  },
  {
   "cell_type": "code",
   "execution_count": 71,
   "metadata": {},
   "outputs": [
    {
     "name": "stdout",
     "output_type": "stream",
     "text": [
      "Charges for smoker: Min: 19964.7463, Max: 63770.42801\n",
      "Charges for non-smoker: Min: 1121.8739, Max: 19933.458\n"
     ]
    }
   ],
   "source": [
    "# What is the lowest cost for smoker and non-smoker?\n",
    "\n",
    "def find_min_max_costs(smoker, charges):\n",
    "    # initialization for smoker\n",
    "    min_smoker_cost = float('inf')\n",
    "    max_smoker_cost = float('-inf')\n",
    "    \n",
    "    # initialization for non-smoker\n",
    "    min_non_smoker_cost = float('inf')\n",
    "    max_non_smoker_cost = float('-inf')\n",
    "    \n",
    "    for smoker, cost in zip(smoker, charges):\n",
    "        if smoker == 'yes':\n",
    "            # update min and max cost for smoker\n",
    "            if cost < min_smoker_cost:\n",
    "                min_smoker_cost = cost\n",
    "            if cost > max_smoker_cost:\n",
    "                max_smoker_cost = cost\n",
    "        else:\n",
    "            # update min and max cost for non-smoker\n",
    "            if cost < min_non_smoker_cost:\n",
    "                min_non_smoker_cost = cost\n",
    "            if cost > max_non_smoker_cost:\n",
    "                max_non_smoker_cost = cost\n",
    "    \n",
    "    return (min_smoker_cost, max_smoker_cost), (min_non_smoker_cost, max_non_smoker_cost)\n",
    "\n",
    "# Wywołanie funkcji\n",
    "(smoker_min_max, non_smoker_min_max) = find_min_max_costs(smoker, charges)\n",
    "\n",
    "# Wyświetlenie wyników\n",
    "print(f\"Charges for smoker: Min: {smoker_min_max[0]}, Max: {smoker_min_max[1]}\")\n",
    "print(f\"Charges for non-smoker: Min: {non_smoker_min_max[0]}, Max: {non_smoker_min_max[1]}\")"
   ]
  },
  {
   "cell_type": "code",
   "execution_count": 86,
   "metadata": {},
   "outputs": [
    {
     "name": "stdout",
     "output_type": "stream",
     "text": [
      "Average age for someone who has at least one child: 39.78010471204188\n"
     ]
    }
   ],
   "source": [
    "# Average age for someone who has at least one child:\n",
    "def avg_age_has_children(age, children):\n",
    "    sum_age = 0\n",
    "    has_child = 0\n",
    "    avg = 0\n",
    "    for age, child_count in zip(age, children):\n",
    "        if child_count > 0:\n",
    "            has_child += 1\n",
    "            sum_age += age\n",
    "    avg = sum_age/has_child\n",
    "    return avg\n",
    "\n",
    "what_is_avg = avg_age_has_children(age, children)\n",
    "\n",
    "print(f'Average age for someone who has at least one child: {what_is_avg}')"
   ]
  },
  {
   "cell_type": "code",
   "execution_count": 77,
   "metadata": {},
   "outputs": [
    {
     "name": "stdout",
     "output_type": "stream",
     "text": [
      "There are 274 smokers in our database\n",
      "There are 1064 non-smokers in our database\n"
     ]
    }
   ],
   "source": [
    "# How many poople is smoker?\n",
    "\n",
    "is_smoker = smoker.count('yes')\n",
    "print(f'There are {is_smoker} smokers in our database')\n",
    "\n",
    "# How many people is non-smoker?\n",
    "\n",
    "is_non_smoker = smoker.count('no')\n",
    "print(f'There are {is_non_smoker} non-smokers in our database')"
   ]
  },
  {
   "cell_type": "code",
   "execution_count": 84,
   "metadata": {},
   "outputs": [
    {
     "name": "stdout",
     "output_type": "stream",
     "text": [
      "There is 764 people with at least one child\n"
     ]
    }
   ],
   "source": [
    "# How many people has at least one child?\n",
    "count_people_with_child = 0\n",
    "for child in children:\n",
    "    if child > 0:\n",
    "        count_people_with_child += 1\n",
    "\n",
    "print(f'There is {count_people_with_child} people with at least one child')\n"
   ]
  }
 ],
 "metadata": {
  "kernelspec": {
   "display_name": "Python 3",
   "language": "python",
   "name": "python3"
  },
  "language_info": {
   "codemirror_mode": {
    "name": "ipython",
    "version": 3
   },
   "file_extension": ".py",
   "mimetype": "text/x-python",
   "name": "python",
   "nbconvert_exporter": "python",
   "pygments_lexer": "ipython3",
   "version": "3.12.4"
  }
 },
 "nbformat": 4,
 "nbformat_minor": 4
}
